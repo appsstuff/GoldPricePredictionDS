{
  "nbformat": 4,
  "nbformat_minor": 0,
  "metadata": {
    "colab": {
      "provenance": [],
      "name": "Gold-price-prediction",
      "history_visible": true,
      "include_colab_link": true
    },
    "kernelspec": {
      "name": "python3",
      "display_name": "Python 3"
    },
    "language_info": {
      "name": "python"
    }
  },
  "cells": [
    {
      "cell_type": "markdown",
      "metadata": {
        "id": "view-in-github",
        "colab_type": "text"
      },
      "source": [
        "<a href=\"https://colab.research.google.com/github/appsstuff/GoldPricePredictionDS/blob/main/Gold_price_prediction.ipynb\" target=\"_parent\"><img src=\"https://colab.research.google.com/assets/colab-badge.svg\" alt=\"Open In Colab\"/></a>"
      ]
    },
    {
      "cell_type": "markdown",
      "metadata": {
        "id": "i1h7LAlVa7Gu"
      },
      "source": [
        "Importing the Libraries"
      ]
    },
    {
      "cell_type": "code",
      "metadata": {
        "id": "d2o7jdWHXE6K"
      },
      "source": [
        "import numpy as np\n",
        "import pandas as pd\n",
        "import matplotlib.pyplot as plt\n",
        "import seaborn as sns\n",
        "from sklearn.model_selection import train_test_split\n",
        "from sklearn.ensemble import RandomForestRegressor\n",
        "from sklearn import metrics\n",
        "from sklearn.impute import SimpleImputer\n"
      ],
      "execution_count": 1,
      "outputs": []
    },
    {
      "cell_type": "code",
      "source": [
        "from google.colab import drive\n",
        "drive.mount('/content/drive')"
      ],
      "metadata": {
        "colab": {
          "base_uri": "https://localhost:8080/"
        },
        "id": "vQg2_DhipwHP",
        "outputId": "7e38a8b7-6094-4f40-c1ab-2d93b389436a"
      },
      "execution_count": null,
      "outputs": [
        {
          "output_type": "stream",
          "name": "stdout",
          "text": [
            "Mounted at /content/drive\n"
          ]
        }
      ]
    },
    {
      "cell_type": "markdown",
      "metadata": {
        "id": "Y1jC584Mbd4Q"
      },
      "source": [
        "Data Collection and Processing"
      ]
    },
    {
      "cell_type": "code",
      "metadata": {
        "id": "BQtjCTzHbZQO"
      },
      "source": [
        "# loading the csv data to a Pandas DataFrame\n",
        "gold_data = pd.read_csv('gold-price-commodites2024.csv')"
      ],
      "execution_count": null,
      "outputs": []
    },
    {
      "cell_type": "code",
      "metadata": {
        "colab": {
          "base_uri": "https://localhost:8080/",
          "height": 206
        },
        "id": "S5xeeB9LbyA9",
        "outputId": "ffa3ae63-5697-4314-99ef-ee5ba57936b9"
      },
      "source": [
        "# print first 5 rows in the dataframe\n",
        "gold_data.head()"
      ],
      "execution_count": null,
      "outputs": [
        {
          "output_type": "execute_result",
          "data": {
            "text/plain": [
              "         Date     gold      btc   eur   coil   boil   gas  copper  sliver\n",
              "0  04/30/2024  2333.45  63499.0  1.07  82.41  86.98  2.06    4.66   26.95\n",
              "1  04/29/2024  2357.70  63960.0  1.07  82.63  87.31  2.03    4.68   27.66\n",
              "2  04/28/2024  2347.45  63226.0  1.07  83.22  87.57  1.95    4.59   27.50\n",
              "3  04/26/2024  2335.00  63874.0  1.07  83.85  89.50  1.61    4.57   27.40\n",
              "4  04/25/2024  2330.30  64555.0  1.07  83.57  89.01  1.64    4.53   27.50"
            ],
            "text/html": [
              "\n",
              "  <div id=\"df-854b755a-e281-4123-832c-4d00f4a57140\" class=\"colab-df-container\">\n",
              "    <div>\n",
              "<style scoped>\n",
              "    .dataframe tbody tr th:only-of-type {\n",
              "        vertical-align: middle;\n",
              "    }\n",
              "\n",
              "    .dataframe tbody tr th {\n",
              "        vertical-align: top;\n",
              "    }\n",
              "\n",
              "    .dataframe thead th {\n",
              "        text-align: right;\n",
              "    }\n",
              "</style>\n",
              "<table border=\"1\" class=\"dataframe\">\n",
              "  <thead>\n",
              "    <tr style=\"text-align: right;\">\n",
              "      <th></th>\n",
              "      <th>Date</th>\n",
              "      <th>gold</th>\n",
              "      <th>btc</th>\n",
              "      <th>eur</th>\n",
              "      <th>coil</th>\n",
              "      <th>boil</th>\n",
              "      <th>gas</th>\n",
              "      <th>copper</th>\n",
              "      <th>sliver</th>\n",
              "    </tr>\n",
              "  </thead>\n",
              "  <tbody>\n",
              "    <tr>\n",
              "      <th>0</th>\n",
              "      <td>04/30/2024</td>\n",
              "      <td>2333.45</td>\n",
              "      <td>63499.0</td>\n",
              "      <td>1.07</td>\n",
              "      <td>82.41</td>\n",
              "      <td>86.98</td>\n",
              "      <td>2.06</td>\n",
              "      <td>4.66</td>\n",
              "      <td>26.95</td>\n",
              "    </tr>\n",
              "    <tr>\n",
              "      <th>1</th>\n",
              "      <td>04/29/2024</td>\n",
              "      <td>2357.70</td>\n",
              "      <td>63960.0</td>\n",
              "      <td>1.07</td>\n",
              "      <td>82.63</td>\n",
              "      <td>87.31</td>\n",
              "      <td>2.03</td>\n",
              "      <td>4.68</td>\n",
              "      <td>27.66</td>\n",
              "    </tr>\n",
              "    <tr>\n",
              "      <th>2</th>\n",
              "      <td>04/28/2024</td>\n",
              "      <td>2347.45</td>\n",
              "      <td>63226.0</td>\n",
              "      <td>1.07</td>\n",
              "      <td>83.22</td>\n",
              "      <td>87.57</td>\n",
              "      <td>1.95</td>\n",
              "      <td>4.59</td>\n",
              "      <td>27.50</td>\n",
              "    </tr>\n",
              "    <tr>\n",
              "      <th>3</th>\n",
              "      <td>04/26/2024</td>\n",
              "      <td>2335.00</td>\n",
              "      <td>63874.0</td>\n",
              "      <td>1.07</td>\n",
              "      <td>83.85</td>\n",
              "      <td>89.50</td>\n",
              "      <td>1.61</td>\n",
              "      <td>4.57</td>\n",
              "      <td>27.40</td>\n",
              "    </tr>\n",
              "    <tr>\n",
              "      <th>4</th>\n",
              "      <td>04/25/2024</td>\n",
              "      <td>2330.30</td>\n",
              "      <td>64555.0</td>\n",
              "      <td>1.07</td>\n",
              "      <td>83.57</td>\n",
              "      <td>89.01</td>\n",
              "      <td>1.64</td>\n",
              "      <td>4.53</td>\n",
              "      <td>27.50</td>\n",
              "    </tr>\n",
              "  </tbody>\n",
              "</table>\n",
              "</div>\n",
              "    <div class=\"colab-df-buttons\">\n",
              "\n",
              "  <div class=\"colab-df-container\">\n",
              "    <button class=\"colab-df-convert\" onclick=\"convertToInteractive('df-854b755a-e281-4123-832c-4d00f4a57140')\"\n",
              "            title=\"Convert this dataframe to an interactive table.\"\n",
              "            style=\"display:none;\">\n",
              "\n",
              "  <svg xmlns=\"http://www.w3.org/2000/svg\" height=\"24px\" viewBox=\"0 -960 960 960\">\n",
              "    <path d=\"M120-120v-720h720v720H120Zm60-500h600v-160H180v160Zm220 220h160v-160H400v160Zm0 220h160v-160H400v160ZM180-400h160v-160H180v160Zm440 0h160v-160H620v160ZM180-180h160v-160H180v160Zm440 0h160v-160H620v160Z\"/>\n",
              "  </svg>\n",
              "    </button>\n",
              "\n",
              "  <style>\n",
              "    .colab-df-container {\n",
              "      display:flex;\n",
              "      gap: 12px;\n",
              "    }\n",
              "\n",
              "    .colab-df-convert {\n",
              "      background-color: #E8F0FE;\n",
              "      border: none;\n",
              "      border-radius: 50%;\n",
              "      cursor: pointer;\n",
              "      display: none;\n",
              "      fill: #1967D2;\n",
              "      height: 32px;\n",
              "      padding: 0 0 0 0;\n",
              "      width: 32px;\n",
              "    }\n",
              "\n",
              "    .colab-df-convert:hover {\n",
              "      background-color: #E2EBFA;\n",
              "      box-shadow: 0px 1px 2px rgba(60, 64, 67, 0.3), 0px 1px 3px 1px rgba(60, 64, 67, 0.15);\n",
              "      fill: #174EA6;\n",
              "    }\n",
              "\n",
              "    .colab-df-buttons div {\n",
              "      margin-bottom: 4px;\n",
              "    }\n",
              "\n",
              "    [theme=dark] .colab-df-convert {\n",
              "      background-color: #3B4455;\n",
              "      fill: #D2E3FC;\n",
              "    }\n",
              "\n",
              "    [theme=dark] .colab-df-convert:hover {\n",
              "      background-color: #434B5C;\n",
              "      box-shadow: 0px 1px 3px 1px rgba(0, 0, 0, 0.15);\n",
              "      filter: drop-shadow(0px 1px 2px rgba(0, 0, 0, 0.3));\n",
              "      fill: #FFFFFF;\n",
              "    }\n",
              "  </style>\n",
              "\n",
              "    <script>\n",
              "      const buttonEl =\n",
              "        document.querySelector('#df-854b755a-e281-4123-832c-4d00f4a57140 button.colab-df-convert');\n",
              "      buttonEl.style.display =\n",
              "        google.colab.kernel.accessAllowed ? 'block' : 'none';\n",
              "\n",
              "      async function convertToInteractive(key) {\n",
              "        const element = document.querySelector('#df-854b755a-e281-4123-832c-4d00f4a57140');\n",
              "        const dataTable =\n",
              "          await google.colab.kernel.invokeFunction('convertToInteractive',\n",
              "                                                    [key], {});\n",
              "        if (!dataTable) return;\n",
              "\n",
              "        const docLinkHtml = 'Like what you see? Visit the ' +\n",
              "          '<a target=\"_blank\" href=https://colab.research.google.com/notebooks/data_table.ipynb>data table notebook</a>'\n",
              "          + ' to learn more about interactive tables.';\n",
              "        element.innerHTML = '';\n",
              "        dataTable['output_type'] = 'display_data';\n",
              "        await google.colab.output.renderOutput(dataTable, element);\n",
              "        const docLink = document.createElement('div');\n",
              "        docLink.innerHTML = docLinkHtml;\n",
              "        element.appendChild(docLink);\n",
              "      }\n",
              "    </script>\n",
              "  </div>\n",
              "\n",
              "\n",
              "<div id=\"df-04af701c-b881-40c9-bba2-b13050560c07\">\n",
              "  <button class=\"colab-df-quickchart\" onclick=\"quickchart('df-04af701c-b881-40c9-bba2-b13050560c07')\"\n",
              "            title=\"Suggest charts\"\n",
              "            style=\"display:none;\">\n",
              "\n",
              "<svg xmlns=\"http://www.w3.org/2000/svg\" height=\"24px\"viewBox=\"0 0 24 24\"\n",
              "     width=\"24px\">\n",
              "    <g>\n",
              "        <path d=\"M19 3H5c-1.1 0-2 .9-2 2v14c0 1.1.9 2 2 2h14c1.1 0 2-.9 2-2V5c0-1.1-.9-2-2-2zM9 17H7v-7h2v7zm4 0h-2V7h2v10zm4 0h-2v-4h2v4z\"/>\n",
              "    </g>\n",
              "</svg>\n",
              "  </button>\n",
              "\n",
              "<style>\n",
              "  .colab-df-quickchart {\n",
              "      --bg-color: #E8F0FE;\n",
              "      --fill-color: #1967D2;\n",
              "      --hover-bg-color: #E2EBFA;\n",
              "      --hover-fill-color: #174EA6;\n",
              "      --disabled-fill-color: #AAA;\n",
              "      --disabled-bg-color: #DDD;\n",
              "  }\n",
              "\n",
              "  [theme=dark] .colab-df-quickchart {\n",
              "      --bg-color: #3B4455;\n",
              "      --fill-color: #D2E3FC;\n",
              "      --hover-bg-color: #434B5C;\n",
              "      --hover-fill-color: #FFFFFF;\n",
              "      --disabled-bg-color: #3B4455;\n",
              "      --disabled-fill-color: #666;\n",
              "  }\n",
              "\n",
              "  .colab-df-quickchart {\n",
              "    background-color: var(--bg-color);\n",
              "    border: none;\n",
              "    border-radius: 50%;\n",
              "    cursor: pointer;\n",
              "    display: none;\n",
              "    fill: var(--fill-color);\n",
              "    height: 32px;\n",
              "    padding: 0;\n",
              "    width: 32px;\n",
              "  }\n",
              "\n",
              "  .colab-df-quickchart:hover {\n",
              "    background-color: var(--hover-bg-color);\n",
              "    box-shadow: 0 1px 2px rgba(60, 64, 67, 0.3), 0 1px 3px 1px rgba(60, 64, 67, 0.15);\n",
              "    fill: var(--button-hover-fill-color);\n",
              "  }\n",
              "\n",
              "  .colab-df-quickchart-complete:disabled,\n",
              "  .colab-df-quickchart-complete:disabled:hover {\n",
              "    background-color: var(--disabled-bg-color);\n",
              "    fill: var(--disabled-fill-color);\n",
              "    box-shadow: none;\n",
              "  }\n",
              "\n",
              "  .colab-df-spinner {\n",
              "    border: 2px solid var(--fill-color);\n",
              "    border-color: transparent;\n",
              "    border-bottom-color: var(--fill-color);\n",
              "    animation:\n",
              "      spin 1s steps(1) infinite;\n",
              "  }\n",
              "\n",
              "  @keyframes spin {\n",
              "    0% {\n",
              "      border-color: transparent;\n",
              "      border-bottom-color: var(--fill-color);\n",
              "      border-left-color: var(--fill-color);\n",
              "    }\n",
              "    20% {\n",
              "      border-color: transparent;\n",
              "      border-left-color: var(--fill-color);\n",
              "      border-top-color: var(--fill-color);\n",
              "    }\n",
              "    30% {\n",
              "      border-color: transparent;\n",
              "      border-left-color: var(--fill-color);\n",
              "      border-top-color: var(--fill-color);\n",
              "      border-right-color: var(--fill-color);\n",
              "    }\n",
              "    40% {\n",
              "      border-color: transparent;\n",
              "      border-right-color: var(--fill-color);\n",
              "      border-top-color: var(--fill-color);\n",
              "    }\n",
              "    60% {\n",
              "      border-color: transparent;\n",
              "      border-right-color: var(--fill-color);\n",
              "    }\n",
              "    80% {\n",
              "      border-color: transparent;\n",
              "      border-right-color: var(--fill-color);\n",
              "      border-bottom-color: var(--fill-color);\n",
              "    }\n",
              "    90% {\n",
              "      border-color: transparent;\n",
              "      border-bottom-color: var(--fill-color);\n",
              "    }\n",
              "  }\n",
              "</style>\n",
              "\n",
              "  <script>\n",
              "    async function quickchart(key) {\n",
              "      const quickchartButtonEl =\n",
              "        document.querySelector('#' + key + ' button');\n",
              "      quickchartButtonEl.disabled = true;  // To prevent multiple clicks.\n",
              "      quickchartButtonEl.classList.add('colab-df-spinner');\n",
              "      try {\n",
              "        const charts = await google.colab.kernel.invokeFunction(\n",
              "            'suggestCharts', [key], {});\n",
              "      } catch (error) {\n",
              "        console.error('Error during call to suggestCharts:', error);\n",
              "      }\n",
              "      quickchartButtonEl.classList.remove('colab-df-spinner');\n",
              "      quickchartButtonEl.classList.add('colab-df-quickchart-complete');\n",
              "    }\n",
              "    (() => {\n",
              "      let quickchartButtonEl =\n",
              "        document.querySelector('#df-04af701c-b881-40c9-bba2-b13050560c07 button');\n",
              "      quickchartButtonEl.style.display =\n",
              "        google.colab.kernel.accessAllowed ? 'block' : 'none';\n",
              "    })();\n",
              "  </script>\n",
              "</div>\n",
              "\n",
              "    </div>\n",
              "  </div>\n"
            ],
            "application/vnd.google.colaboratory.intrinsic+json": {
              "type": "dataframe",
              "variable_name": "gold_data",
              "summary": "{\n  \"name\": \"gold_data\",\n  \"rows\": 2593,\n  \"fields\": [\n    {\n      \"column\": \"Date\",\n      \"properties\": {\n        \"dtype\": \"object\",\n        \"num_unique_values\": 2593,\n        \"samples\": [\n          \"07/11/2023\",\n          \"02/24/2016\",\n          \"08/18/2017\"\n        ],\n        \"semantic_type\": \"\",\n        \"description\": \"\"\n      }\n    },\n    {\n      \"column\": \"gold\",\n      \"properties\": {\n        \"dtype\": \"number\",\n        \"std\": 317.51546059281293,\n        \"min\": 1049.6,\n        \"max\": 2401.4,\n        \"num_unique_values\": 2148,\n        \"samples\": [\n          1284.2,\n          1152.4,\n          1565.4\n        ],\n        \"semantic_type\": \"\",\n        \"description\": \"\"\n      }\n    },\n    {\n      \"column\": \"btc\",\n      \"properties\": {\n        \"dtype\": \"number\",\n        \"std\": 17701.925647087675,\n        \"min\": 183.0,\n        \"max\": 72974.0,\n        \"num_unique_values\": 2512,\n        \"samples\": [\n          417.7,\n          20134.0,\n          4074.0\n        ],\n        \"semantic_type\": \"\",\n        \"description\": \"\"\n      }\n    },\n    {\n      \"column\": \"eur\",\n      \"properties\": {\n        \"dtype\": \"number\",\n        \"std\": 0.07051032076889269,\n        \"min\": 0.96,\n        \"max\": 1.39,\n        \"num_unique_values\": 44,\n        \"samples\": [\n          1.33,\n          1.2,\n          1.21\n        ],\n        \"semantic_type\": \"\",\n        \"description\": \"\"\n      }\n    },\n    {\n      \"column\": \"coil\",\n      \"properties\": {\n        \"dtype\": \"number\",\n        \"std\": 19.56412971199844,\n        \"min\": -37.63,\n        \"max\": 123.7,\n        \"num_unique_values\": 2146,\n        \"samples\": [\n          40.36,\n          82.2,\n          85.54\n        ],\n        \"semantic_type\": \"\",\n        \"description\": \"\"\n      }\n    },\n    {\n      \"column\": \"boil\",\n      \"properties\": {\n        \"dtype\": \"number\",\n        \"std\": 20.06483493470588,\n        \"min\": 19.33,\n        \"max\": 127.98,\n        \"num_unique_values\": 2168,\n        \"samples\": [\n          57.17,\n          84.86,\n          55.55\n        ],\n        \"semantic_type\": \"\",\n        \"description\": \"\"\n      }\n    },\n    {\n      \"column\": \"gas\",\n      \"properties\": {\n        \"dtype\": \"number\",\n        \"std\": 1.4056288026871713,\n        \"min\": 1.48,\n        \"max\": 9.65,\n        \"num_unique_values\": 512,\n        \"samples\": [\n          7.03,\n          3.76,\n          2.46\n        ],\n        \"semantic_type\": \"\",\n        \"description\": \"\"\n      }\n    },\n    {\n      \"column\": \"copper\",\n      \"properties\": {\n        \"dtype\": \"number\",\n        \"std\": 0.7195636409073632,\n        \"min\": 1.94,\n        \"max\": 4.94,\n        \"num_unique_values\": 283,\n        \"samples\": [\n          4.44,\n          2.71,\n          4.47\n        ],\n        \"semantic_type\": \"\",\n        \"description\": \"\"\n      }\n    },\n    {\n      \"column\": \"sliver\",\n      \"properties\": {\n        \"dtype\": \"number\",\n        \"std\": 3.9385045589044028,\n        \"min\": 11.77,\n        \"max\": 29.42,\n        \"num_unique_values\": 1068,\n        \"samples\": [\n          17.2,\n          20.98,\n          17.14\n        ],\n        \"semantic_type\": \"\",\n        \"description\": \"\"\n      }\n    }\n  ]\n}"
            }
          },
          "metadata": {},
          "execution_count": 15
        }
      ]
    },
    {
      "cell_type": "code",
      "metadata": {
        "colab": {
          "base_uri": "https://localhost:8080/",
          "height": 206
        },
        "id": "NrywfHOBb6HD",
        "outputId": "e5e7af0f-c600-4cec-f309-7b051bc102b6"
      },
      "source": [
        "# print last 5 rows of the dataframe\n",
        "gold_data.tail()"
      ],
      "execution_count": null,
      "outputs": [
        {
          "output_type": "execute_result",
          "data": {
            "text/plain": [
              "            Date    gold    btc   eur   coil    boil   gas  copper  sliver\n",
              "2588  05/06/2014  1308.6  430.0  1.39  99.50  107.06  4.80    3.06   19.65\n",
              "2589  05/05/2014  1309.3  427.0  1.39  99.48  107.72  4.69    3.05   19.57\n",
              "2590  05/02/2014  1302.9  453.5  1.39  99.76  108.59  4.67    3.07   19.55\n",
              "2591  05/01/2014  1283.4  459.0  1.39  99.42  107.76  4.72    3.02   19.04\n",
              "2592  04/30/2014  1295.9  448.3  1.39  99.74  108.07  4.82    3.03   19.17"
            ],
            "text/html": [
              "\n",
              "  <div id=\"df-e48ccb94-c4fa-4e92-a1cf-3fbbda97ca1d\" class=\"colab-df-container\">\n",
              "    <div>\n",
              "<style scoped>\n",
              "    .dataframe tbody tr th:only-of-type {\n",
              "        vertical-align: middle;\n",
              "    }\n",
              "\n",
              "    .dataframe tbody tr th {\n",
              "        vertical-align: top;\n",
              "    }\n",
              "\n",
              "    .dataframe thead th {\n",
              "        text-align: right;\n",
              "    }\n",
              "</style>\n",
              "<table border=\"1\" class=\"dataframe\">\n",
              "  <thead>\n",
              "    <tr style=\"text-align: right;\">\n",
              "      <th></th>\n",
              "      <th>Date</th>\n",
              "      <th>gold</th>\n",
              "      <th>btc</th>\n",
              "      <th>eur</th>\n",
              "      <th>coil</th>\n",
              "      <th>boil</th>\n",
              "      <th>gas</th>\n",
              "      <th>copper</th>\n",
              "      <th>sliver</th>\n",
              "    </tr>\n",
              "  </thead>\n",
              "  <tbody>\n",
              "    <tr>\n",
              "      <th>2588</th>\n",
              "      <td>05/06/2014</td>\n",
              "      <td>1308.6</td>\n",
              "      <td>430.0</td>\n",
              "      <td>1.39</td>\n",
              "      <td>99.50</td>\n",
              "      <td>107.06</td>\n",
              "      <td>4.80</td>\n",
              "      <td>3.06</td>\n",
              "      <td>19.65</td>\n",
              "    </tr>\n",
              "    <tr>\n",
              "      <th>2589</th>\n",
              "      <td>05/05/2014</td>\n",
              "      <td>1309.3</td>\n",
              "      <td>427.0</td>\n",
              "      <td>1.39</td>\n",
              "      <td>99.48</td>\n",
              "      <td>107.72</td>\n",
              "      <td>4.69</td>\n",
              "      <td>3.05</td>\n",
              "      <td>19.57</td>\n",
              "    </tr>\n",
              "    <tr>\n",
              "      <th>2590</th>\n",
              "      <td>05/02/2014</td>\n",
              "      <td>1302.9</td>\n",
              "      <td>453.5</td>\n",
              "      <td>1.39</td>\n",
              "      <td>99.76</td>\n",
              "      <td>108.59</td>\n",
              "      <td>4.67</td>\n",
              "      <td>3.07</td>\n",
              "      <td>19.55</td>\n",
              "    </tr>\n",
              "    <tr>\n",
              "      <th>2591</th>\n",
              "      <td>05/01/2014</td>\n",
              "      <td>1283.4</td>\n",
              "      <td>459.0</td>\n",
              "      <td>1.39</td>\n",
              "      <td>99.42</td>\n",
              "      <td>107.76</td>\n",
              "      <td>4.72</td>\n",
              "      <td>3.02</td>\n",
              "      <td>19.04</td>\n",
              "    </tr>\n",
              "    <tr>\n",
              "      <th>2592</th>\n",
              "      <td>04/30/2014</td>\n",
              "      <td>1295.9</td>\n",
              "      <td>448.3</td>\n",
              "      <td>1.39</td>\n",
              "      <td>99.74</td>\n",
              "      <td>108.07</td>\n",
              "      <td>4.82</td>\n",
              "      <td>3.03</td>\n",
              "      <td>19.17</td>\n",
              "    </tr>\n",
              "  </tbody>\n",
              "</table>\n",
              "</div>\n",
              "    <div class=\"colab-df-buttons\">\n",
              "\n",
              "  <div class=\"colab-df-container\">\n",
              "    <button class=\"colab-df-convert\" onclick=\"convertToInteractive('df-e48ccb94-c4fa-4e92-a1cf-3fbbda97ca1d')\"\n",
              "            title=\"Convert this dataframe to an interactive table.\"\n",
              "            style=\"display:none;\">\n",
              "\n",
              "  <svg xmlns=\"http://www.w3.org/2000/svg\" height=\"24px\" viewBox=\"0 -960 960 960\">\n",
              "    <path d=\"M120-120v-720h720v720H120Zm60-500h600v-160H180v160Zm220 220h160v-160H400v160Zm0 220h160v-160H400v160ZM180-400h160v-160H180v160Zm440 0h160v-160H620v160ZM180-180h160v-160H180v160Zm440 0h160v-160H620v160Z\"/>\n",
              "  </svg>\n",
              "    </button>\n",
              "\n",
              "  <style>\n",
              "    .colab-df-container {\n",
              "      display:flex;\n",
              "      gap: 12px;\n",
              "    }\n",
              "\n",
              "    .colab-df-convert {\n",
              "      background-color: #E8F0FE;\n",
              "      border: none;\n",
              "      border-radius: 50%;\n",
              "      cursor: pointer;\n",
              "      display: none;\n",
              "      fill: #1967D2;\n",
              "      height: 32px;\n",
              "      padding: 0 0 0 0;\n",
              "      width: 32px;\n",
              "    }\n",
              "\n",
              "    .colab-df-convert:hover {\n",
              "      background-color: #E2EBFA;\n",
              "      box-shadow: 0px 1px 2px rgba(60, 64, 67, 0.3), 0px 1px 3px 1px rgba(60, 64, 67, 0.15);\n",
              "      fill: #174EA6;\n",
              "    }\n",
              "\n",
              "    .colab-df-buttons div {\n",
              "      margin-bottom: 4px;\n",
              "    }\n",
              "\n",
              "    [theme=dark] .colab-df-convert {\n",
              "      background-color: #3B4455;\n",
              "      fill: #D2E3FC;\n",
              "    }\n",
              "\n",
              "    [theme=dark] .colab-df-convert:hover {\n",
              "      background-color: #434B5C;\n",
              "      box-shadow: 0px 1px 3px 1px rgba(0, 0, 0, 0.15);\n",
              "      filter: drop-shadow(0px 1px 2px rgba(0, 0, 0, 0.3));\n",
              "      fill: #FFFFFF;\n",
              "    }\n",
              "  </style>\n",
              "\n",
              "    <script>\n",
              "      const buttonEl =\n",
              "        document.querySelector('#df-e48ccb94-c4fa-4e92-a1cf-3fbbda97ca1d button.colab-df-convert');\n",
              "      buttonEl.style.display =\n",
              "        google.colab.kernel.accessAllowed ? 'block' : 'none';\n",
              "\n",
              "      async function convertToInteractive(key) {\n",
              "        const element = document.querySelector('#df-e48ccb94-c4fa-4e92-a1cf-3fbbda97ca1d');\n",
              "        const dataTable =\n",
              "          await google.colab.kernel.invokeFunction('convertToInteractive',\n",
              "                                                    [key], {});\n",
              "        if (!dataTable) return;\n",
              "\n",
              "        const docLinkHtml = 'Like what you see? Visit the ' +\n",
              "          '<a target=\"_blank\" href=https://colab.research.google.com/notebooks/data_table.ipynb>data table notebook</a>'\n",
              "          + ' to learn more about interactive tables.';\n",
              "        element.innerHTML = '';\n",
              "        dataTable['output_type'] = 'display_data';\n",
              "        await google.colab.output.renderOutput(dataTable, element);\n",
              "        const docLink = document.createElement('div');\n",
              "        docLink.innerHTML = docLinkHtml;\n",
              "        element.appendChild(docLink);\n",
              "      }\n",
              "    </script>\n",
              "  </div>\n",
              "\n",
              "\n",
              "<div id=\"df-22982d07-f8b5-4f23-bfb6-45b20f211eec\">\n",
              "  <button class=\"colab-df-quickchart\" onclick=\"quickchart('df-22982d07-f8b5-4f23-bfb6-45b20f211eec')\"\n",
              "            title=\"Suggest charts\"\n",
              "            style=\"display:none;\">\n",
              "\n",
              "<svg xmlns=\"http://www.w3.org/2000/svg\" height=\"24px\"viewBox=\"0 0 24 24\"\n",
              "     width=\"24px\">\n",
              "    <g>\n",
              "        <path d=\"M19 3H5c-1.1 0-2 .9-2 2v14c0 1.1.9 2 2 2h14c1.1 0 2-.9 2-2V5c0-1.1-.9-2-2-2zM9 17H7v-7h2v7zm4 0h-2V7h2v10zm4 0h-2v-4h2v4z\"/>\n",
              "    </g>\n",
              "</svg>\n",
              "  </button>\n",
              "\n",
              "<style>\n",
              "  .colab-df-quickchart {\n",
              "      --bg-color: #E8F0FE;\n",
              "      --fill-color: #1967D2;\n",
              "      --hover-bg-color: #E2EBFA;\n",
              "      --hover-fill-color: #174EA6;\n",
              "      --disabled-fill-color: #AAA;\n",
              "      --disabled-bg-color: #DDD;\n",
              "  }\n",
              "\n",
              "  [theme=dark] .colab-df-quickchart {\n",
              "      --bg-color: #3B4455;\n",
              "      --fill-color: #D2E3FC;\n",
              "      --hover-bg-color: #434B5C;\n",
              "      --hover-fill-color: #FFFFFF;\n",
              "      --disabled-bg-color: #3B4455;\n",
              "      --disabled-fill-color: #666;\n",
              "  }\n",
              "\n",
              "  .colab-df-quickchart {\n",
              "    background-color: var(--bg-color);\n",
              "    border: none;\n",
              "    border-radius: 50%;\n",
              "    cursor: pointer;\n",
              "    display: none;\n",
              "    fill: var(--fill-color);\n",
              "    height: 32px;\n",
              "    padding: 0;\n",
              "    width: 32px;\n",
              "  }\n",
              "\n",
              "  .colab-df-quickchart:hover {\n",
              "    background-color: var(--hover-bg-color);\n",
              "    box-shadow: 0 1px 2px rgba(60, 64, 67, 0.3), 0 1px 3px 1px rgba(60, 64, 67, 0.15);\n",
              "    fill: var(--button-hover-fill-color);\n",
              "  }\n",
              "\n",
              "  .colab-df-quickchart-complete:disabled,\n",
              "  .colab-df-quickchart-complete:disabled:hover {\n",
              "    background-color: var(--disabled-bg-color);\n",
              "    fill: var(--disabled-fill-color);\n",
              "    box-shadow: none;\n",
              "  }\n",
              "\n",
              "  .colab-df-spinner {\n",
              "    border: 2px solid var(--fill-color);\n",
              "    border-color: transparent;\n",
              "    border-bottom-color: var(--fill-color);\n",
              "    animation:\n",
              "      spin 1s steps(1) infinite;\n",
              "  }\n",
              "\n",
              "  @keyframes spin {\n",
              "    0% {\n",
              "      border-color: transparent;\n",
              "      border-bottom-color: var(--fill-color);\n",
              "      border-left-color: var(--fill-color);\n",
              "    }\n",
              "    20% {\n",
              "      border-color: transparent;\n",
              "      border-left-color: var(--fill-color);\n",
              "      border-top-color: var(--fill-color);\n",
              "    }\n",
              "    30% {\n",
              "      border-color: transparent;\n",
              "      border-left-color: var(--fill-color);\n",
              "      border-top-color: var(--fill-color);\n",
              "      border-right-color: var(--fill-color);\n",
              "    }\n",
              "    40% {\n",
              "      border-color: transparent;\n",
              "      border-right-color: var(--fill-color);\n",
              "      border-top-color: var(--fill-color);\n",
              "    }\n",
              "    60% {\n",
              "      border-color: transparent;\n",
              "      border-right-color: var(--fill-color);\n",
              "    }\n",
              "    80% {\n",
              "      border-color: transparent;\n",
              "      border-right-color: var(--fill-color);\n",
              "      border-bottom-color: var(--fill-color);\n",
              "    }\n",
              "    90% {\n",
              "      border-color: transparent;\n",
              "      border-bottom-color: var(--fill-color);\n",
              "    }\n",
              "  }\n",
              "</style>\n",
              "\n",
              "  <script>\n",
              "    async function quickchart(key) {\n",
              "      const quickchartButtonEl =\n",
              "        document.querySelector('#' + key + ' button');\n",
              "      quickchartButtonEl.disabled = true;  // To prevent multiple clicks.\n",
              "      quickchartButtonEl.classList.add('colab-df-spinner');\n",
              "      try {\n",
              "        const charts = await google.colab.kernel.invokeFunction(\n",
              "            'suggestCharts', [key], {});\n",
              "      } catch (error) {\n",
              "        console.error('Error during call to suggestCharts:', error);\n",
              "      }\n",
              "      quickchartButtonEl.classList.remove('colab-df-spinner');\n",
              "      quickchartButtonEl.classList.add('colab-df-quickchart-complete');\n",
              "    }\n",
              "    (() => {\n",
              "      let quickchartButtonEl =\n",
              "        document.querySelector('#df-22982d07-f8b5-4f23-bfb6-45b20f211eec button');\n",
              "      quickchartButtonEl.style.display =\n",
              "        google.colab.kernel.accessAllowed ? 'block' : 'none';\n",
              "    })();\n",
              "  </script>\n",
              "</div>\n",
              "\n",
              "    </div>\n",
              "  </div>\n"
            ],
            "application/vnd.google.colaboratory.intrinsic+json": {
              "type": "dataframe",
              "repr_error": "0"
            }
          },
          "metadata": {},
          "execution_count": 23
        }
      ]
    },
    {
      "cell_type": "code",
      "metadata": {
        "colab": {
          "base_uri": "https://localhost:8080/"
        },
        "id": "vgnDjvpocdUp",
        "outputId": "8c1ba706-728d-4ae8-e0e3-4724d5b9a368"
      },
      "source": [
        "# number of rows and columns\n",
        "gold_data.shape"
      ],
      "execution_count": null,
      "outputs": [
        {
          "output_type": "execute_result",
          "data": {
            "text/plain": [
              "(2593, 9)"
            ]
          },
          "metadata": {},
          "execution_count": 17
        }
      ]
    },
    {
      "cell_type": "code",
      "metadata": {
        "colab": {
          "base_uri": "https://localhost:8080/"
        },
        "id": "9SEXC4AWcnDu",
        "outputId": "4da49e7f-62dd-4f7c-d5a9-f45ae4aba760"
      },
      "source": [
        "# getting some basic informations about the data\n",
        "gold_data.info()"
      ],
      "execution_count": null,
      "outputs": [
        {
          "output_type": "stream",
          "name": "stdout",
          "text": [
            "<class 'pandas.core.frame.DataFrame'>\n",
            "RangeIndex: 2593 entries, 0 to 2592\n",
            "Data columns (total 9 columns):\n",
            " #   Column  Non-Null Count  Dtype  \n",
            "---  ------  --------------  -----  \n",
            " 0   Date    2593 non-null   object \n",
            " 1   gold    2593 non-null   float64\n",
            " 2   btc     2593 non-null   float64\n",
            " 3   eur     2587 non-null   float64\n",
            " 4   coil    2593 non-null   float64\n",
            " 5   boil    2593 non-null   float64\n",
            " 6   gas     2593 non-null   float64\n",
            " 7   copper  2593 non-null   float64\n",
            " 8   sliver  2576 non-null   float64\n",
            "dtypes: float64(8), object(1)\n",
            "memory usage: 182.4+ KB\n"
          ]
        }
      ]
    },
    {
      "cell_type": "code",
      "metadata": {
        "colab": {
          "base_uri": "https://localhost:8080/"
        },
        "id": "tjmFVXi2cv4Q",
        "outputId": "126512d0-758f-460d-e148-f19019d47d0e"
      },
      "source": [
        "# checking the number of missing values\n",
        "# Fill null values with a constant\n",
        "\n",
        "# df_filled_constant = gold_data.fillna(value=0)\n",
        "# df_interpolated = gold_data.interpolate()\n",
        "imputer = SimpleImputer(missing_values=np.nan, strategy='mean')\n",
        "\n",
        "gold_data['btc']      = imputer.fit_transform(gold_data['btc'].to_numpy().reshape(-1,1))\n",
        "gold_data['coil'] = imputer.fit_transform(gold_data['coil'].to_numpy().reshape(-1,1))\n",
        "gold_data['boil'] = imputer.fit_transform(gold_data['boil'].to_numpy().reshape(-1,1))\n",
        "gold_data['gas']      = imputer.fit_transform(gold_data['gas'].to_numpy().reshape(-1,1))\n",
        "gold_data['copper']   = imputer.fit_transform(gold_data['copper'].to_numpy().reshape(-1,1))\n",
        "gold_data['sliver']   = imputer.fit_transform(gold_data['sliver'].to_numpy().reshape(-1,1))\n",
        "\n",
        "\n",
        "gold_data.isnull().sum()\n"
      ],
      "execution_count": null,
      "outputs": [
        {
          "output_type": "execute_result",
          "data": {
            "text/plain": [
              "Date      0\n",
              "gold      0\n",
              "btc       0\n",
              "eur       6\n",
              "coil      0\n",
              "boil      0\n",
              "gas       0\n",
              "copper    0\n",
              "sliver    0\n",
              "dtype: int64"
            ]
          },
          "metadata": {},
          "execution_count": 25
        }
      ]
    },
    {
      "cell_type": "code",
      "metadata": {
        "colab": {
          "base_uri": "https://localhost:8080/",
          "height": 320
        },
        "id": "9IcOnRfhc7zv",
        "outputId": "1b4f80ca-1a1d-41ed-8770-d985b2be57b5"
      },
      "source": [
        "# getting the statistical measures of the data\n",
        "gold_data.describe()"
      ],
      "execution_count": null,
      "outputs": [
        {
          "output_type": "execute_result",
          "data": {
            "text/plain": [
              "              gold           btc          eur         coil         boil  \\\n",
              "count  2593.000000   2593.000000  2587.000000  2593.000000  2593.000000   \n",
              "mean   1524.063768  15487.938850     1.134028    63.149182    67.623948   \n",
              "std     317.515461  17698.510594     0.070510    19.560355    20.018335   \n",
              "min    1049.600000    183.000000     0.960000   -37.630000    19.330000   \n",
              "25%    1250.300000    708.400000     1.090000    48.650000    51.870000   \n",
              "50%    1349.900000   8213.400000     1.120000    59.720000    65.400000   \n",
              "75%    1818.700000  26264.000000     1.170000    75.890000    80.780000   \n",
              "max    2401.400000  72974.000000     1.390000   123.700000   127.980000   \n",
              "\n",
              "               gas       copper       sliver  \n",
              "count  2593.000000  2593.000000  2593.000000  \n",
              "mean      3.228372     3.154606    19.346766  \n",
              "std       1.405358     0.715806     3.925568  \n",
              "min       1.480000     1.940000    11.770000  \n",
              "25%       2.500000     2.630000    16.270000  \n",
              "50%       2.820000     3.010000    17.860000  \n",
              "75%       3.420000     3.760000    23.060000  \n",
              "max       9.650000     4.940000    29.420000  "
            ],
            "text/html": [
              "\n",
              "  <div id=\"df-57d83b65-79cf-4507-bd09-fb990634aba4\" class=\"colab-df-container\">\n",
              "    <div>\n",
              "<style scoped>\n",
              "    .dataframe tbody tr th:only-of-type {\n",
              "        vertical-align: middle;\n",
              "    }\n",
              "\n",
              "    .dataframe tbody tr th {\n",
              "        vertical-align: top;\n",
              "    }\n",
              "\n",
              "    .dataframe thead th {\n",
              "        text-align: right;\n",
              "    }\n",
              "</style>\n",
              "<table border=\"1\" class=\"dataframe\">\n",
              "  <thead>\n",
              "    <tr style=\"text-align: right;\">\n",
              "      <th></th>\n",
              "      <th>gold</th>\n",
              "      <th>btc</th>\n",
              "      <th>eur</th>\n",
              "      <th>coil</th>\n",
              "      <th>boil</th>\n",
              "      <th>gas</th>\n",
              "      <th>copper</th>\n",
              "      <th>sliver</th>\n",
              "    </tr>\n",
              "  </thead>\n",
              "  <tbody>\n",
              "    <tr>\n",
              "      <th>count</th>\n",
              "      <td>2593.000000</td>\n",
              "      <td>2593.000000</td>\n",
              "      <td>2587.000000</td>\n",
              "      <td>2593.000000</td>\n",
              "      <td>2593.000000</td>\n",
              "      <td>2593.000000</td>\n",
              "      <td>2593.000000</td>\n",
              "      <td>2593.000000</td>\n",
              "    </tr>\n",
              "    <tr>\n",
              "      <th>mean</th>\n",
              "      <td>1524.063768</td>\n",
              "      <td>15487.938850</td>\n",
              "      <td>1.134028</td>\n",
              "      <td>63.149182</td>\n",
              "      <td>67.623948</td>\n",
              "      <td>3.228372</td>\n",
              "      <td>3.154606</td>\n",
              "      <td>19.346766</td>\n",
              "    </tr>\n",
              "    <tr>\n",
              "      <th>std</th>\n",
              "      <td>317.515461</td>\n",
              "      <td>17698.510594</td>\n",
              "      <td>0.070510</td>\n",
              "      <td>19.560355</td>\n",
              "      <td>20.018335</td>\n",
              "      <td>1.405358</td>\n",
              "      <td>0.715806</td>\n",
              "      <td>3.925568</td>\n",
              "    </tr>\n",
              "    <tr>\n",
              "      <th>min</th>\n",
              "      <td>1049.600000</td>\n",
              "      <td>183.000000</td>\n",
              "      <td>0.960000</td>\n",
              "      <td>-37.630000</td>\n",
              "      <td>19.330000</td>\n",
              "      <td>1.480000</td>\n",
              "      <td>1.940000</td>\n",
              "      <td>11.770000</td>\n",
              "    </tr>\n",
              "    <tr>\n",
              "      <th>25%</th>\n",
              "      <td>1250.300000</td>\n",
              "      <td>708.400000</td>\n",
              "      <td>1.090000</td>\n",
              "      <td>48.650000</td>\n",
              "      <td>51.870000</td>\n",
              "      <td>2.500000</td>\n",
              "      <td>2.630000</td>\n",
              "      <td>16.270000</td>\n",
              "    </tr>\n",
              "    <tr>\n",
              "      <th>50%</th>\n",
              "      <td>1349.900000</td>\n",
              "      <td>8213.400000</td>\n",
              "      <td>1.120000</td>\n",
              "      <td>59.720000</td>\n",
              "      <td>65.400000</td>\n",
              "      <td>2.820000</td>\n",
              "      <td>3.010000</td>\n",
              "      <td>17.860000</td>\n",
              "    </tr>\n",
              "    <tr>\n",
              "      <th>75%</th>\n",
              "      <td>1818.700000</td>\n",
              "      <td>26264.000000</td>\n",
              "      <td>1.170000</td>\n",
              "      <td>75.890000</td>\n",
              "      <td>80.780000</td>\n",
              "      <td>3.420000</td>\n",
              "      <td>3.760000</td>\n",
              "      <td>23.060000</td>\n",
              "    </tr>\n",
              "    <tr>\n",
              "      <th>max</th>\n",
              "      <td>2401.400000</td>\n",
              "      <td>72974.000000</td>\n",
              "      <td>1.390000</td>\n",
              "      <td>123.700000</td>\n",
              "      <td>127.980000</td>\n",
              "      <td>9.650000</td>\n",
              "      <td>4.940000</td>\n",
              "      <td>29.420000</td>\n",
              "    </tr>\n",
              "  </tbody>\n",
              "</table>\n",
              "</div>\n",
              "    <div class=\"colab-df-buttons\">\n",
              "\n",
              "  <div class=\"colab-df-container\">\n",
              "    <button class=\"colab-df-convert\" onclick=\"convertToInteractive('df-57d83b65-79cf-4507-bd09-fb990634aba4')\"\n",
              "            title=\"Convert this dataframe to an interactive table.\"\n",
              "            style=\"display:none;\">\n",
              "\n",
              "  <svg xmlns=\"http://www.w3.org/2000/svg\" height=\"24px\" viewBox=\"0 -960 960 960\">\n",
              "    <path d=\"M120-120v-720h720v720H120Zm60-500h600v-160H180v160Zm220 220h160v-160H400v160Zm0 220h160v-160H400v160ZM180-400h160v-160H180v160Zm440 0h160v-160H620v160ZM180-180h160v-160H180v160Zm440 0h160v-160H620v160Z\"/>\n",
              "  </svg>\n",
              "    </button>\n",
              "\n",
              "  <style>\n",
              "    .colab-df-container {\n",
              "      display:flex;\n",
              "      gap: 12px;\n",
              "    }\n",
              "\n",
              "    .colab-df-convert {\n",
              "      background-color: #E8F0FE;\n",
              "      border: none;\n",
              "      border-radius: 50%;\n",
              "      cursor: pointer;\n",
              "      display: none;\n",
              "      fill: #1967D2;\n",
              "      height: 32px;\n",
              "      padding: 0 0 0 0;\n",
              "      width: 32px;\n",
              "    }\n",
              "\n",
              "    .colab-df-convert:hover {\n",
              "      background-color: #E2EBFA;\n",
              "      box-shadow: 0px 1px 2px rgba(60, 64, 67, 0.3), 0px 1px 3px 1px rgba(60, 64, 67, 0.15);\n",
              "      fill: #174EA6;\n",
              "    }\n",
              "\n",
              "    .colab-df-buttons div {\n",
              "      margin-bottom: 4px;\n",
              "    }\n",
              "\n",
              "    [theme=dark] .colab-df-convert {\n",
              "      background-color: #3B4455;\n",
              "      fill: #D2E3FC;\n",
              "    }\n",
              "\n",
              "    [theme=dark] .colab-df-convert:hover {\n",
              "      background-color: #434B5C;\n",
              "      box-shadow: 0px 1px 3px 1px rgba(0, 0, 0, 0.15);\n",
              "      filter: drop-shadow(0px 1px 2px rgba(0, 0, 0, 0.3));\n",
              "      fill: #FFFFFF;\n",
              "    }\n",
              "  </style>\n",
              "\n",
              "    <script>\n",
              "      const buttonEl =\n",
              "        document.querySelector('#df-57d83b65-79cf-4507-bd09-fb990634aba4 button.colab-df-convert');\n",
              "      buttonEl.style.display =\n",
              "        google.colab.kernel.accessAllowed ? 'block' : 'none';\n",
              "\n",
              "      async function convertToInteractive(key) {\n",
              "        const element = document.querySelector('#df-57d83b65-79cf-4507-bd09-fb990634aba4');\n",
              "        const dataTable =\n",
              "          await google.colab.kernel.invokeFunction('convertToInteractive',\n",
              "                                                    [key], {});\n",
              "        if (!dataTable) return;\n",
              "\n",
              "        const docLinkHtml = 'Like what you see? Visit the ' +\n",
              "          '<a target=\"_blank\" href=https://colab.research.google.com/notebooks/data_table.ipynb>data table notebook</a>'\n",
              "          + ' to learn more about interactive tables.';\n",
              "        element.innerHTML = '';\n",
              "        dataTable['output_type'] = 'display_data';\n",
              "        await google.colab.output.renderOutput(dataTable, element);\n",
              "        const docLink = document.createElement('div');\n",
              "        docLink.innerHTML = docLinkHtml;\n",
              "        element.appendChild(docLink);\n",
              "      }\n",
              "    </script>\n",
              "  </div>\n",
              "\n",
              "\n",
              "<div id=\"df-336dffee-b29e-4bba-9fd0-b334b924f494\">\n",
              "  <button class=\"colab-df-quickchart\" onclick=\"quickchart('df-336dffee-b29e-4bba-9fd0-b334b924f494')\"\n",
              "            title=\"Suggest charts\"\n",
              "            style=\"display:none;\">\n",
              "\n",
              "<svg xmlns=\"http://www.w3.org/2000/svg\" height=\"24px\"viewBox=\"0 0 24 24\"\n",
              "     width=\"24px\">\n",
              "    <g>\n",
              "        <path d=\"M19 3H5c-1.1 0-2 .9-2 2v14c0 1.1.9 2 2 2h14c1.1 0 2-.9 2-2V5c0-1.1-.9-2-2-2zM9 17H7v-7h2v7zm4 0h-2V7h2v10zm4 0h-2v-4h2v4z\"/>\n",
              "    </g>\n",
              "</svg>\n",
              "  </button>\n",
              "\n",
              "<style>\n",
              "  .colab-df-quickchart {\n",
              "      --bg-color: #E8F0FE;\n",
              "      --fill-color: #1967D2;\n",
              "      --hover-bg-color: #E2EBFA;\n",
              "      --hover-fill-color: #174EA6;\n",
              "      --disabled-fill-color: #AAA;\n",
              "      --disabled-bg-color: #DDD;\n",
              "  }\n",
              "\n",
              "  [theme=dark] .colab-df-quickchart {\n",
              "      --bg-color: #3B4455;\n",
              "      --fill-color: #D2E3FC;\n",
              "      --hover-bg-color: #434B5C;\n",
              "      --hover-fill-color: #FFFFFF;\n",
              "      --disabled-bg-color: #3B4455;\n",
              "      --disabled-fill-color: #666;\n",
              "  }\n",
              "\n",
              "  .colab-df-quickchart {\n",
              "    background-color: var(--bg-color);\n",
              "    border: none;\n",
              "    border-radius: 50%;\n",
              "    cursor: pointer;\n",
              "    display: none;\n",
              "    fill: var(--fill-color);\n",
              "    height: 32px;\n",
              "    padding: 0;\n",
              "    width: 32px;\n",
              "  }\n",
              "\n",
              "  .colab-df-quickchart:hover {\n",
              "    background-color: var(--hover-bg-color);\n",
              "    box-shadow: 0 1px 2px rgba(60, 64, 67, 0.3), 0 1px 3px 1px rgba(60, 64, 67, 0.15);\n",
              "    fill: var(--button-hover-fill-color);\n",
              "  }\n",
              "\n",
              "  .colab-df-quickchart-complete:disabled,\n",
              "  .colab-df-quickchart-complete:disabled:hover {\n",
              "    background-color: var(--disabled-bg-color);\n",
              "    fill: var(--disabled-fill-color);\n",
              "    box-shadow: none;\n",
              "  }\n",
              "\n",
              "  .colab-df-spinner {\n",
              "    border: 2px solid var(--fill-color);\n",
              "    border-color: transparent;\n",
              "    border-bottom-color: var(--fill-color);\n",
              "    animation:\n",
              "      spin 1s steps(1) infinite;\n",
              "  }\n",
              "\n",
              "  @keyframes spin {\n",
              "    0% {\n",
              "      border-color: transparent;\n",
              "      border-bottom-color: var(--fill-color);\n",
              "      border-left-color: var(--fill-color);\n",
              "    }\n",
              "    20% {\n",
              "      border-color: transparent;\n",
              "      border-left-color: var(--fill-color);\n",
              "      border-top-color: var(--fill-color);\n",
              "    }\n",
              "    30% {\n",
              "      border-color: transparent;\n",
              "      border-left-color: var(--fill-color);\n",
              "      border-top-color: var(--fill-color);\n",
              "      border-right-color: var(--fill-color);\n",
              "    }\n",
              "    40% {\n",
              "      border-color: transparent;\n",
              "      border-right-color: var(--fill-color);\n",
              "      border-top-color: var(--fill-color);\n",
              "    }\n",
              "    60% {\n",
              "      border-color: transparent;\n",
              "      border-right-color: var(--fill-color);\n",
              "    }\n",
              "    80% {\n",
              "      border-color: transparent;\n",
              "      border-right-color: var(--fill-color);\n",
              "      border-bottom-color: var(--fill-color);\n",
              "    }\n",
              "    90% {\n",
              "      border-color: transparent;\n",
              "      border-bottom-color: var(--fill-color);\n",
              "    }\n",
              "  }\n",
              "</style>\n",
              "\n",
              "  <script>\n",
              "    async function quickchart(key) {\n",
              "      const quickchartButtonEl =\n",
              "        document.querySelector('#' + key + ' button');\n",
              "      quickchartButtonEl.disabled = true;  // To prevent multiple clicks.\n",
              "      quickchartButtonEl.classList.add('colab-df-spinner');\n",
              "      try {\n",
              "        const charts = await google.colab.kernel.invokeFunction(\n",
              "            'suggestCharts', [key], {});\n",
              "      } catch (error) {\n",
              "        console.error('Error during call to suggestCharts:', error);\n",
              "      }\n",
              "      quickchartButtonEl.classList.remove('colab-df-spinner');\n",
              "      quickchartButtonEl.classList.add('colab-df-quickchart-complete');\n",
              "    }\n",
              "    (() => {\n",
              "      let quickchartButtonEl =\n",
              "        document.querySelector('#df-336dffee-b29e-4bba-9fd0-b334b924f494 button');\n",
              "      quickchartButtonEl.style.display =\n",
              "        google.colab.kernel.accessAllowed ? 'block' : 'none';\n",
              "    })();\n",
              "  </script>\n",
              "</div>\n",
              "\n",
              "    </div>\n",
              "  </div>\n"
            ],
            "application/vnd.google.colaboratory.intrinsic+json": {
              "type": "dataframe",
              "summary": "{\n  \"name\": \"gold_data\",\n  \"rows\": 8,\n  \"fields\": [\n    {\n      \"column\": \"gold\",\n      \"properties\": {\n        \"dtype\": \"number\",\n        \"std\": 735.2104859728853,\n        \"min\": 317.51546059281293,\n        \"max\": 2593.0,\n        \"num_unique_values\": 8,\n        \"samples\": [\n          1524.063767836483,\n          1349.9,\n          2593.0\n        ],\n        \"semantic_type\": \"\",\n        \"description\": \"\"\n      }\n    },\n    {\n      \"column\": \"btc\",\n      \"properties\": {\n        \"dtype\": \"number\",\n        \"std\": 24042.9138924717,\n        \"min\": 183.0,\n        \"max\": 72974.0,\n        \"num_unique_values\": 8,\n        \"samples\": [\n          15487.938850308641,\n          8213.4,\n          2593.0\n        ],\n        \"semantic_type\": \"\",\n        \"description\": \"\"\n      }\n    },\n    {\n      \"column\": \"eur\",\n      \"properties\": {\n        \"dtype\": \"number\",\n        \"std\": 914.2924592713715,\n        \"min\": 0.07051032076889269,\n        \"max\": 2587.0,\n        \"num_unique_values\": 8,\n        \"samples\": [\n          1.1340278314650174,\n          1.12,\n          2587.0\n        ],\n        \"semantic_type\": \"\",\n        \"description\": \"\"\n      }\n    },\n    {\n      \"column\": \"coil\",\n      \"properties\": {\n        \"dtype\": \"number\",\n        \"std\": 900.121905000942,\n        \"min\": -37.63,\n        \"max\": 2593.0,\n        \"num_unique_values\": 8,\n        \"samples\": [\n          63.14918209876543,\n          59.72,\n          2593.0\n        ],\n        \"semantic_type\": \"\",\n        \"description\": \"\"\n      }\n    },\n    {\n      \"column\": \"boil\",\n      \"properties\": {\n        \"dtype\": \"number\",\n        \"std\": 895.5670270656693,\n        \"min\": 19.33,\n        \"max\": 2593.0,\n        \"num_unique_values\": 8,\n        \"samples\": [\n          67.62394808213871,\n          65.4,\n          2593.0\n        ],\n        \"semantic_type\": \"\",\n        \"description\": \"\"\n      }\n    },\n    {\n      \"column\": \"gas\",\n      \"properties\": {\n        \"dtype\": \"number\",\n        \"std\": 915.5300484531284,\n        \"min\": 1.4053576289983958,\n        \"max\": 2593.0,\n        \"num_unique_values\": 8,\n        \"samples\": [\n          3.2283719135802467,\n          2.82,\n          2593.0\n        ],\n        \"semantic_type\": \"\",\n        \"description\": \"\"\n      }\n    },\n    {\n      \"column\": \"copper\",\n      \"properties\": {\n        \"dtype\": \"number\",\n        \"std\": 915.7470300197662,\n        \"min\": 0.7158061027392968,\n        \"max\": 2593.0,\n        \"num_unique_values\": 8,\n        \"samples\": [\n          3.15460639127046,\n          3.01,\n          2593.0\n        ],\n        \"semantic_type\": \"\",\n        \"description\": \"\"\n      }\n    },\n    {\n      \"column\": \"sliver\",\n      \"properties\": {\n        \"dtype\": \"number\",\n        \"std\": 910.650557963893,\n        \"min\": 3.9255676912785344,\n        \"max\": 2593.0,\n        \"num_unique_values\": 8,\n        \"samples\": [\n          19.346766304347824,\n          17.86,\n          2593.0\n        ],\n        \"semantic_type\": \"\",\n        \"description\": \"\"\n      }\n    }\n  ]\n}"
            }
          },
          "metadata": {},
          "execution_count": 26
        }
      ]
    },
    {
      "cell_type": "markdown",
      "metadata": {
        "id": "f9SUQ8hodW4b"
      },
      "source": [
        "Correlation:\n",
        "1. Positive Correlation\n",
        "2. Negative Correlation"
      ]
    },
    {
      "cell_type": "code",
      "metadata": {
        "id": "C3xgji81dJUW"
      },
      "source": [
        "gold_data['Date'] = pd.to_datetime(gold_data['Date'])\n",
        "\n",
        "correlation = gold_data.corr()"
      ],
      "execution_count": null,
      "outputs": []
    },
    {
      "cell_type": "code",
      "metadata": {
        "colab": {
          "base_uri": "https://localhost:8080/",
          "height": 676
        },
        "id": "oOqb9j0Ad-Zx",
        "outputId": "a7d3657c-48c1-4668-f0a4-3238ad8cee02"
      },
      "source": [
        "# constructing a heatmap to understand the correlatiom\n",
        "plt.figure(figsize = (8,8))\n",
        "sns.heatmap(correlation, cbar=True, square=True, fmt='.1f',annot=True, annot_kws={'size':8}, cmap='Blues')"
      ],
      "execution_count": null,
      "outputs": [
        {
          "output_type": "execute_result",
          "data": {
            "text/plain": [
              "<Axes: >"
            ]
          },
          "metadata": {},
          "execution_count": 29
        },
        {
          "output_type": "display_data",
          "data": {
            "text/plain": [
              "<Figure size 800x800 with 2 Axes>"
            ],
            "image/png": "[encoded data removed]"
          },
          "metadata": {}
        }
      ]
    },
    {
      "cell_type": "code",
      "metadata": {
        "colab": {
          "base_uri": "https://localhost:8080/"
        },
        "id": "qtQ_icjRemI4",
        "outputId": "9428c2f8-bb73-46bf-d9c6-f378d110b544"
      },
      "source": [
        "# correlation values of GLD\n",
        "print(correlation['gold'])"
      ],
      "execution_count": null,
      "outputs": [
        {
          "output_type": "stream",
          "name": "stdout",
          "text": [
            "Date      0.908093\n",
            "gold      1.000000\n",
            "btc       0.815455\n",
            "eur      -0.229956\n",
            "coil      0.389905\n",
            "boil      0.358658\n",
            "gas       0.158556\n",
            "copper    0.761366\n",
            "sliver    0.864877\n",
            "Name: gold, dtype: float64\n"
          ]
        }
      ]
    },
    {
      "cell_type": "code",
      "metadata": {
        "colab": {
          "base_uri": "https://localhost:8080/"
        },
        "id": "TMr-xVEwfIKg",
        "outputId": "b4e77014-3d47-4218-a4d6-4ce847ea2555"
      },
      "source": [
        "# checking the distribution of the GLD Price\n",
        "\n",
        "\n",
        "X_Gold = gold_data.drop(['Date','gold'],axis=1)\n",
        "Y_Gold = gold_data['gold']\n",
        "X_train, X_test, Y_train, Y_test = train_test_split(X_Gold, Y_Gold, test_size = 0.2, random_state=2)\n",
        "# sns.histplot(gold_data['gold'],color='blue')\n",
        "\n",
        "# plt.ylabel('Gold')\n",
        "# plt.xlabel('Gold Price')\n",
        "plt.style.use('seaborn-whitegrid')\n",
        "plt.title('Gold price. measured vs. predicted')\n",
        "\n",
        "# ax = sns.histplot(X_train, bins=60, kde=True,color='Blue', label='Gold')\n",
        "ax = sns.histplot(X_test, bins=60, kde=True,color='Red', label='Others')\n",
        "\n",
        "ax.set(xlabel=\"Gold Price\")\n",
        "ax.set(ylabel=\"Gold Prediction\")\n",
        "\n",
        "ax.figure.set_size_inches(15, 15)\n",
        "\n",
        "# sns.histplot(x1 , bins=60,  color='red', kde=True, label='pred')\n",
        "# sns.histplot(y1 , bins=60,  color='Blue', kde=True, label='measured')\n",
        "plt.legend()"
      ],
      "execution_count": null,
      "outputs": [
        {
          "output_type": "stream",
          "name": "stderr",
          "text": [
            "<ipython-input-100-aeeb07a2bf04>:11: MatplotlibDeprecationWarning: The seaborn styles shipped by Matplotlib are deprecated since 3.6, as they no longer correspond to the styles shipped by seaborn. However, they will remain available as 'seaborn-v0_8-<style>'. Alternatively, directly use the seaborn API instead.\n",
            "  plt.style.use('seaborn-whitegrid')\n"
          ]
        },
        {
          "output_type": "execute_result",
          "data": {
            "text/plain": [
              "<matplotlib.legend.Legend at 0x7c8e265d3a30>"
            ]
          },
          "metadata": {},
          "execution_count": 100
        }
      ]
    },
    {
      "cell_type": "markdown",
      "metadata": {
        "id": "4bdwLbPEfqWI"
      },
      "source": [
        "Splitting the Features and Target"
      ]
    },
    {
      "cell_type": "code",
      "metadata": {
        "id": "SJNxCR0vfWxe"
      },
      "source": [
        "X_Gold = gold_data.drop(['Date','gold'],axis=1)\n",
        "Y_Gold = gold_data['gold']"
      ],
      "execution_count": null,
      "outputs": []
    },
    {
      "cell_type": "code",
      "metadata": {
        "colab": {
          "base_uri": "https://localhost:8080/"
        },
        "id": "qW9UvLSNf8zH",
        "outputId": "39e34b14-586f-4665-dba0-4e917074a23f"
      },
      "source": [
        "print(X_Gold)"
      ],
      "execution_count": null,
      "outputs": [
        {
          "output_type": "stream",
          "name": "stdout",
          "text": [
            "          btc   eur   coil    boil   gas  copper  sliver\n",
            "0     63499.0  1.07  82.41   86.98  2.06    4.66   26.95\n",
            "1     63960.0  1.07  82.63   87.31  2.03    4.68   27.66\n",
            "2     63226.0  1.07  83.22   87.57  1.95    4.59   27.50\n",
            "3     63874.0  1.07  83.85   89.50  1.61    4.57   27.40\n",
            "4     64555.0  1.07  83.57   89.01  1.64    4.53   27.50\n",
            "...       ...   ...    ...     ...   ...     ...     ...\n",
            "2588    430.0  1.39  99.50  107.06  4.80    3.06   19.65\n",
            "2589    427.0  1.39  99.48  107.72  4.69    3.05   19.57\n",
            "2590    453.5  1.39  99.76  108.59  4.67    3.07   19.55\n",
            "2591    459.0  1.39  99.42  107.76  4.72    3.02   19.04\n",
            "2592    448.3  1.39  99.74  108.07  4.82    3.03   19.17\n",
            "\n",
            "[2593 rows x 7 columns]\n"
          ]
        }
      ]
    },
    {
      "cell_type": "code",
      "metadata": {
        "colab": {
          "base_uri": "https://localhost:8080/"
        },
        "id": "lKUe3C-qf9y8",
        "outputId": "53aa283d-52bb-41fc-963e-285fbb964f44"
      },
      "source": [
        "print(Y_Gold)"
      ],
      "execution_count": null,
      "outputs": [
        {
          "output_type": "stream",
          "name": "stdout",
          "text": [
            "0       2333.45\n",
            "1       2357.70\n",
            "2       2347.45\n",
            "3       2335.00\n",
            "4       2330.30\n",
            "         ...   \n",
            "2588    1308.60\n",
            "2589    1309.30\n",
            "2590    1302.90\n",
            "2591    1283.40\n",
            "2592    1295.90\n",
            "Name: gold, Length: 2593, dtype: float64\n"
          ]
        }
      ]
    },
    {
      "cell_type": "markdown",
      "metadata": {
        "id": "nv8UohBVgE1Z"
      },
      "source": [
        "Splitting into Training data and Test Data"
      ]
    },
    {
      "cell_type": "code",
      "metadata": {
        "id": "KkrUByFugBUn"
      },
      "source": [
        "X_train, X_test, Y_train, Y_test = train_test_split(X_Gold, Y_Gold, test_size = 0.2, random_state=2)"
      ],
      "execution_count": null,
      "outputs": []
    },
    {
      "cell_type": "markdown",
      "metadata": {
        "id": "1vrCHktWgqfi"
      },
      "source": [
        "Model Training:\n",
        "Random Forest Regressor"
      ]
    },
    {
      "cell_type": "code",
      "metadata": {
        "id": "N17qRKKGgoaZ"
      },
      "source": [
        "regressor = RandomForestRegressor(n_estimators=100)"
      ],
      "execution_count": null,
      "outputs": []
    },
    {
      "cell_type": "code",
      "metadata": {
        "id": "DP2he4-PhMso",
        "colab": {
          "base_uri": "https://localhost:8080/",
          "height": 490
        },
        "outputId": "d0acd038-48ec-4e85-ba97-7d3bd5b53930"
      },
      "source": [
        "# training the model\n",
        "regressor.fit(X_train,Y_train)"
      ],
      "execution_count": null,
      "outputs": [
        {
          "output_type": "error",
          "ename": "ValueError",
          "evalue": "Input X contains NaN.\nRandomForestRegressor does not accept missing values encoded as NaN natively. For supervised learning, you might want to consider sklearn.ensemble.HistGradientBoostingClassifier and Regressor which accept missing values encoded as NaNs natively. Alternatively, it is possible to preprocess the data, for instance by using an imputer transformer in a pipeline or drop samples with missing values. See https://scikit-learn.org/stable/modules/impute.html You can find a list of all estimators that handle NaN values at the following page: https://scikit-learn.org/stable/modules/impute.html#estimators-that-handle-nan-values",
          "traceback": [
            "\u001b[0;31m---------------------------------------------------------------------------\u001b[0m",
            "\u001b[0;31mValueError\u001b[0m                                Traceback (most recent call last)",
            "\u001b[0;32m<ipython-input-72-d6b5e385c6d8>\u001b[0m in \u001b[0;36m<cell line: 2>\u001b[0;34m()\u001b[0m\n\u001b[1;32m      1\u001b[0m \u001b[0;31m# training the model\u001b[0m\u001b[0;34m\u001b[0m\u001b[0;34m\u001b[0m\u001b[0m\n\u001b[0;32m----> 2\u001b[0;31m \u001b[0mregressor\u001b[0m\u001b[0;34m.\u001b[0m\u001b[0mfit\u001b[0m\u001b[0;34m(\u001b[0m\u001b[0mX_train\u001b[0m\u001b[0;34m,\u001b[0m\u001b[0mY_train\u001b[0m\u001b[0;34m)\u001b[0m\u001b[0;34m\u001b[0m\u001b[0;34m\u001b[0m\u001b[0m\n\u001b[0m",
            "\u001b[0;32m/usr/local/lib/python3.10/dist-packages/sklearn/ensemble/_forest.py\u001b[0m in \u001b[0;36mfit\u001b[0;34m(self, X, y, sample_weight)\u001b[0m\n\u001b[1;32m    343\u001b[0m         \u001b[0;32mif\u001b[0m \u001b[0missparse\u001b[0m\u001b[0;34m(\u001b[0m\u001b[0my\u001b[0m\u001b[0;34m)\u001b[0m\u001b[0;34m:\u001b[0m\u001b[0;34m\u001b[0m\u001b[0;34m\u001b[0m\u001b[0m\n\u001b[1;32m    344\u001b[0m             \u001b[0;32mraise\u001b[0m \u001b[0mValueError\u001b[0m\u001b[0;34m(\u001b[0m\u001b[0;34m\"sparse multilabel-indicator for y is not supported.\"\u001b[0m\u001b[0;34m)\u001b[0m\u001b[0;34m\u001b[0m\u001b[0;34m\u001b[0m\u001b[0m\n\u001b[0;32m--> 345\u001b[0;31m         X, y = self._validate_data(\n\u001b[0m\u001b[1;32m    346\u001b[0m             \u001b[0mX\u001b[0m\u001b[0;34m,\u001b[0m \u001b[0my\u001b[0m\u001b[0;34m,\u001b[0m \u001b[0mmulti_output\u001b[0m\u001b[0;34m=\u001b[0m\u001b[0;32mTrue\u001b[0m\u001b[0;34m,\u001b[0m \u001b[0maccept_sparse\u001b[0m\u001b[0;34m=\u001b[0m\u001b[0;34m\"csc\"\u001b[0m\u001b[0;34m,\u001b[0m \u001b[0mdtype\u001b[0m\u001b[0;34m=\u001b[0m\u001b[0mDTYPE\u001b[0m\u001b[0;34m\u001b[0m\u001b[0;34m\u001b[0m\u001b[0m\n\u001b[1;32m    347\u001b[0m         )\n",
            "\u001b[0;32m/usr/local/lib/python3.10/dist-packages/sklearn/base.py\u001b[0m in \u001b[0;36m_validate_data\u001b[0;34m(self, X, y, reset, validate_separately, **check_params)\u001b[0m\n\u001b[1;32m    582\u001b[0m                 \u001b[0my\u001b[0m \u001b[0;34m=\u001b[0m \u001b[0mcheck_array\u001b[0m\u001b[0;34m(\u001b[0m\u001b[0my\u001b[0m\u001b[0;34m,\u001b[0m \u001b[0minput_name\u001b[0m\u001b[0;34m=\u001b[0m\u001b[0;34m\"y\"\u001b[0m\u001b[0;34m,\u001b[0m \u001b[0;34m**\u001b[0m\u001b[0mcheck_y_params\u001b[0m\u001b[0;34m)\u001b[0m\u001b[0;34m\u001b[0m\u001b[0;34m\u001b[0m\u001b[0m\n\u001b[1;32m    583\u001b[0m             \u001b[0;32melse\u001b[0m\u001b[0;34m:\u001b[0m\u001b[0;34m\u001b[0m\u001b[0;34m\u001b[0m\u001b[0m\n\u001b[0;32m--> 584\u001b[0;31m                 \u001b[0mX\u001b[0m\u001b[0;34m,\u001b[0m \u001b[0my\u001b[0m \u001b[0;34m=\u001b[0m \u001b[0mcheck_X_y\u001b[0m\u001b[0;34m(\u001b[0m\u001b[0mX\u001b[0m\u001b[0;34m,\u001b[0m \u001b[0my\u001b[0m\u001b[0;34m,\u001b[0m \u001b[0;34m**\u001b[0m\u001b[0mcheck_params\u001b[0m\u001b[0;34m)\u001b[0m\u001b[0;34m\u001b[0m\u001b[0;34m\u001b[0m\u001b[0m\n\u001b[0m\u001b[1;32m    585\u001b[0m             \u001b[0mout\u001b[0m \u001b[0;34m=\u001b[0m \u001b[0mX\u001b[0m\u001b[0;34m,\u001b[0m \u001b[0my\u001b[0m\u001b[0;34m\u001b[0m\u001b[0;34m\u001b[0m\u001b[0m\n\u001b[1;32m    586\u001b[0m \u001b[0;34m\u001b[0m\u001b[0m\n",
            "\u001b[0;32m/usr/local/lib/python3.10/dist-packages/sklearn/utils/validation.py\u001b[0m in \u001b[0;36mcheck_X_y\u001b[0;34m(X, y, accept_sparse, accept_large_sparse, dtype, order, copy, force_all_finite, ensure_2d, allow_nd, multi_output, ensure_min_samples, ensure_min_features, y_numeric, estimator)\u001b[0m\n\u001b[1;32m   1104\u001b[0m         )\n\u001b[1;32m   1105\u001b[0m \u001b[0;34m\u001b[0m\u001b[0m\n\u001b[0;32m-> 1106\u001b[0;31m     X = check_array(\n\u001b[0m\u001b[1;32m   1107\u001b[0m         \u001b[0mX\u001b[0m\u001b[0;34m,\u001b[0m\u001b[0;34m\u001b[0m\u001b[0;34m\u001b[0m\u001b[0m\n\u001b[1;32m   1108\u001b[0m         \u001b[0maccept_sparse\u001b[0m\u001b[0;34m=\u001b[0m\u001b[0maccept_sparse\u001b[0m\u001b[0;34m,\u001b[0m\u001b[0;34m\u001b[0m\u001b[0;34m\u001b[0m\u001b[0m\n",
            "\u001b[0;32m/usr/local/lib/python3.10/dist-packages/sklearn/utils/validation.py\u001b[0m in \u001b[0;36mcheck_array\u001b[0;34m(array, accept_sparse, accept_large_sparse, dtype, order, copy, force_all_finite, ensure_2d, allow_nd, ensure_min_samples, ensure_min_features, estimator, input_name)\u001b[0m\n\u001b[1;32m    919\u001b[0m \u001b[0;34m\u001b[0m\u001b[0m\n\u001b[1;32m    920\u001b[0m         \u001b[0;32mif\u001b[0m \u001b[0mforce_all_finite\u001b[0m\u001b[0;34m:\u001b[0m\u001b[0;34m\u001b[0m\u001b[0;34m\u001b[0m\u001b[0m\n\u001b[0;32m--> 921\u001b[0;31m             _assert_all_finite(\n\u001b[0m\u001b[1;32m    922\u001b[0m                 \u001b[0marray\u001b[0m\u001b[0;34m,\u001b[0m\u001b[0;34m\u001b[0m\u001b[0;34m\u001b[0m\u001b[0m\n\u001b[1;32m    923\u001b[0m                 \u001b[0minput_name\u001b[0m\u001b[0;34m=\u001b[0m\u001b[0minput_name\u001b[0m\u001b[0;34m,\u001b[0m\u001b[0;34m\u001b[0m\u001b[0;34m\u001b[0m\u001b[0m\n",
            "\u001b[0;32m/usr/local/lib/python3.10/dist-packages/sklearn/utils/validation.py\u001b[0m in \u001b[0;36m_assert_all_finite\u001b[0;34m(X, allow_nan, msg_dtype, estimator_name, input_name)\u001b[0m\n\u001b[1;32m    159\u001b[0m                 \u001b[0;34m\"#estimators-that-handle-nan-values\"\u001b[0m\u001b[0;34m\u001b[0m\u001b[0;34m\u001b[0m\u001b[0m\n\u001b[1;32m    160\u001b[0m             )\n\u001b[0;32m--> 161\u001b[0;31m         \u001b[0;32mraise\u001b[0m \u001b[0mValueError\u001b[0m\u001b[0;34m(\u001b[0m\u001b[0mmsg_err\u001b[0m\u001b[0;34m)\u001b[0m\u001b[0;34m\u001b[0m\u001b[0;34m\u001b[0m\u001b[0m\n\u001b[0m\u001b[1;32m    162\u001b[0m \u001b[0;34m\u001b[0m\u001b[0m\n\u001b[1;32m    163\u001b[0m \u001b[0;34m\u001b[0m\u001b[0m\n",
            "\u001b[0;31mValueError\u001b[0m: Input X contains NaN.\nRandomForestRegressor does not accept missing values encoded as NaN natively. For supervised learning, you might want to consider sklearn.ensemble.HistGradientBoostingClassifier and Regressor which accept missing values encoded as NaNs natively. Alternatively, it is possible to preprocess the data, for instance by using an imputer transformer in a pipeline or drop samples with missing values. See https://scikit-learn.org/stable/modules/impute.html You can find a list of all estimators that handle NaN values at the following page: https://scikit-learn.org/stable/modules/impute.html#estimators-that-handle-nan-values"
          ]
        }
      ]
    },
    {
      "cell_type": "markdown",
      "metadata": {
        "id": "SHNFVsr4hbG2"
      },
      "source": [
        "Model Evaluation"
      ]
    },
    {
      "cell_type": "code",
      "metadata": {
        "id": "uOLpKKD_hXSl",
        "colab": {
          "base_uri": "https://localhost:8080/",
          "height": 341
        },
        "outputId": "822b54c1-1202-4493-9e4f-1aec0de31718"
      },
      "source": [
        "# prediction on Test Data\n",
        "test_data_prediction = regressor.predict(X_test)"
      ],
      "execution_count": null,
      "outputs": [
        {
          "output_type": "error",
          "ename": "AttributeError",
          "evalue": "'RandomForestRegressor' object has no attribute 'n_outputs_'",
          "traceback": [
            "\u001b[0;31m---------------------------------------------------------------------------\u001b[0m",
            "\u001b[0;31mAttributeError\u001b[0m                            Traceback (most recent call last)",
            "\u001b[0;32m<ipython-input-47-9dfbac4974a6>\u001b[0m in \u001b[0;36m<cell line: 2>\u001b[0;34m()\u001b[0m\n\u001b[1;32m      1\u001b[0m \u001b[0;31m# prediction on Test Data\u001b[0m\u001b[0;34m\u001b[0m\u001b[0;34m\u001b[0m\u001b[0m\n\u001b[0;32m----> 2\u001b[0;31m \u001b[0mtest_data_prediction\u001b[0m \u001b[0;34m=\u001b[0m \u001b[0mregressor\u001b[0m\u001b[0;34m.\u001b[0m\u001b[0mpredict\u001b[0m\u001b[0;34m(\u001b[0m\u001b[0mX_test\u001b[0m\u001b[0;34m)\u001b[0m\u001b[0;34m\u001b[0m\u001b[0;34m\u001b[0m\u001b[0m\n\u001b[0m",
            "\u001b[0;32m/usr/local/lib/python3.10/dist-packages/sklearn/ensemble/_forest.py\u001b[0m in \u001b[0;36mpredict\u001b[0;34m(self, X)\u001b[0m\n\u001b[1;32m    985\u001b[0m \u001b[0;34m\u001b[0m\u001b[0m\n\u001b[1;32m    986\u001b[0m         \u001b[0;31m# avoid storing the output of every estimator by summing them here\u001b[0m\u001b[0;34m\u001b[0m\u001b[0;34m\u001b[0m\u001b[0m\n\u001b[0;32m--> 987\u001b[0;31m         \u001b[0;32mif\u001b[0m \u001b[0mself\u001b[0m\u001b[0;34m.\u001b[0m\u001b[0mn_outputs_\u001b[0m \u001b[0;34m>\u001b[0m \u001b[0;36m1\u001b[0m\u001b[0;34m:\u001b[0m\u001b[0;34m\u001b[0m\u001b[0;34m\u001b[0m\u001b[0m\n\u001b[0m\u001b[1;32m    988\u001b[0m             \u001b[0my_hat\u001b[0m \u001b[0;34m=\u001b[0m \u001b[0mnp\u001b[0m\u001b[0;34m.\u001b[0m\u001b[0mzeros\u001b[0m\u001b[0;34m(\u001b[0m\u001b[0;34m(\u001b[0m\u001b[0mX\u001b[0m\u001b[0;34m.\u001b[0m\u001b[0mshape\u001b[0m\u001b[0;34m[\u001b[0m\u001b[0;36m0\u001b[0m\u001b[0;34m]\u001b[0m\u001b[0;34m,\u001b[0m \u001b[0mself\u001b[0m\u001b[0;34m.\u001b[0m\u001b[0mn_outputs_\u001b[0m\u001b[0;34m)\u001b[0m\u001b[0;34m,\u001b[0m \u001b[0mdtype\u001b[0m\u001b[0;34m=\u001b[0m\u001b[0mnp\u001b[0m\u001b[0;34m.\u001b[0m\u001b[0mfloat64\u001b[0m\u001b[0;34m)\u001b[0m\u001b[0;34m\u001b[0m\u001b[0;34m\u001b[0m\u001b[0m\n\u001b[1;32m    989\u001b[0m         \u001b[0;32melse\u001b[0m\u001b[0;34m:\u001b[0m\u001b[0;34m\u001b[0m\u001b[0;34m\u001b[0m\u001b[0m\n",
            "\u001b[0;31mAttributeError\u001b[0m: 'RandomForestRegressor' object has no attribute 'n_outputs_'"
          ]
        }
      ]
    },
    {
      "cell_type": "code",
      "metadata": {
        "colab": {
          "base_uri": "https://localhost:8080/"
        },
        "id": "WSIqrLNdhnOr",
        "outputId": "507dc827-da5d-43ee-8dd9-71025e48ee61"
      },
      "source": [
        "print(test_data_prediction)"
      ],
      "execution_count": null,
      "outputs": [
        {
          "output_type": "stream",
          "name": "stdout",
          "text": [
            "[168.40029908  81.79259982 116.04220068 127.6094009  120.68510092\n",
            " 154.73699675 150.26069863 126.12739998 117.41789866 125.94220086\n",
            " 116.61500124 172.74630082 141.89749881 167.81069836 115.0032999\n",
            " 117.62010046 138.59430328 170.03840093 158.89450267 156.56909961\n",
            " 155.20790082 125.30830004 176.13689948 157.17470384 125.21450047\n",
            "  93.69649938  77.4189002  120.55019994 119.06249877 167.44989928\n",
            "  88.01870081 125.33609999  91.13760046 117.82360038 121.07999883\n",
            " 135.84220111 115.58560117 115.54960082 146.75549958 107.11020126\n",
            " 103.95680255  87.24479788 126.63620028 117.38319972 153.62879915\n",
            " 119.8852     108.35019977 108.34269862  93.28700078 127.12369778\n",
            "  74.36280073 113.6620991  121.29500013 111.29789904 118.89389878\n",
            " 120.56979956 159.72269964 167.47050063 147.26819701  85.87299871\n",
            "  94.22660037  86.69659872  90.5769     118.73840061 126.44520045\n",
            " 127.6817999  170.08920051 122.15529904 117.50519901  98.47700035\n",
            " 168.41380144 143.48749868 132.43490271 121.09620218 121.28519943\n",
            " 119.79440066 114.57660131 118.15460049 106.93330114 127.96620136\n",
            " 114.08849991 107.25609998 116.86930046 119.54559874  89.08560103\n",
            "  88.24779865 146.67570265 127.41350059 113.60780006 110.37779837\n",
            " 108.07309917  77.13139905 169.75640195 114.0580991  121.68659906\n",
            " 128.10600144 155.06209794  91.64849909 136.05760134 159.09920361\n",
            " 125.08720043 125.38230005 130.58900211 114.77820116 119.81519998\n",
            "  92.12619977 110.37059891 168.08069973 157.32479887 114.13199949\n",
            " 106.65490143  79.42709983 113.23400049 125.78590131 107.15189948\n",
            " 119.25680083 155.89500278 159.97689892 119.84849986 134.32470301\n",
            " 101.44010026 117.66899797 119.40300045 112.8954006  102.764899\n",
            " 160.33179768  98.98460053 147.78949942 125.68680091 169.93959847\n",
            " 125.71839909 127.25369771 127.28050236 113.86459921 112.82300089\n",
            " 123.6157991  102.17649906  89.10739973 124.47109974 101.24769944\n",
            " 107.16049922 113.28490088 117.4373007   98.98859937 121.85510036\n",
            " 164.02649899  87.30799862 106.74940004 116.97260086 127.7504017\n",
            " 124.24180048  80.60839885 120.55990062 157.71879821  87.8305997\n",
            " 110.44309924 118.74879897 172.92459862 102.90579909 105.52000093\n",
            " 122.40300033 158.05119761  87.51989837  93.62950052 112.58840029\n",
            " 177.27429903 114.5230995  119.42670043  94.91580099 125.63540013\n",
            " 166.46740156 114.61730055 116.61770148  88.27159869 149.25540132\n",
            " 120.27829919  89.46339973 112.48650009 117.28080017 118.72270117\n",
            "  88.0592995   94.22380003 117.05329991 118.63840163 120.25630002\n",
            " 126.73449824 121.90640005 149.74650026 165.50520064 118.55469944\n",
            " 120.22290135 150.61930069 118.113299   173.36659964 105.21709925\n",
            " 104.94410158 149.81290161 113.82570074 124.80470109 147.76449999\n",
            " 119.52850115 115.29610045 112.37590008 113.29040241 141.00270138\n",
            " 117.89619768 102.98260054 115.85050105 103.35910175  98.63420032\n",
            " 117.33900057  90.7543999   91.55650009 153.79439919 102.64879974\n",
            " 154.96640101 114.42340165 139.32930127  90.14749799 115.5724994\n",
            " 114.2334998  122.84020056 121.69650055 165.38590114  92.99979931\n",
            " 135.2220007  121.42859883 120.9002005  104.49980008 142.0063027\n",
            " 121.56959917 116.6431005  113.65160097 127.09369757 122.75169958\n",
            " 125.79969912 121.2981002   86.80469892 133.14680151 144.03250212\n",
            "  92.63999942 158.37479942 159.22790334 126.33459935 165.40979936\n",
            " 108.88839948 110.00080084 103.60259814  94.33390076 127.82560306\n",
            " 107.19200027 162.25139991 121.94790026 131.86470053 130.6433019\n",
            " 160.12269971  90.06199859 174.67990256 127.05790031 126.76549832\n",
            "  86.54419912 124.53029911 150.06289726  89.65570012 106.9593001\n",
            " 108.9269998   84.31409928 136.09560037 155.10710324 139.01760337\n",
            "  74.22190031 152.44890076 126.28320062 126.78050006 127.43549916\n",
            " 108.67499949 156.44800042 114.62940079 116.95990149 125.19979961\n",
            " 153.85760084 121.32929984 156.3203989   92.8287008  125.58280126\n",
            " 125.39650011  87.8095003   92.10399938 126.14110001 128.15750301\n",
            " 113.44130089 117.7154974  120.9953002  127.12299826 119.63810103\n",
            " 136.44140136  93.90499931 119.87050028 113.28250118  94.3454994\n",
            " 108.81729939  86.80139908 108.80509951  89.73299984  92.48740056\n",
            " 131.56570315 162.54090032  89.44519979 119.6013007  133.46190165\n",
            " 123.88720003 128.11630139 101.98809849  88.91619888 131.46160064\n",
            " 119.59100066 108.6941     169.0165006  115.2807006   86.62059867\n",
            " 118.82890064  91.16189965 161.87050058 116.69400033 121.68179995\n",
            " 160.19449767 119.98819975 112.5552997  108.42849874 126.49090009\n",
            "  76.14840057 103.00979983 127.53650261 121.80619908  92.61869971\n",
            " 132.38370107 118.11300117 115.96629967 154.56690316 159.56320036\n",
            " 109.95610015 156.19769803 119.28580096 160.69540107 118.80890008\n",
            " 158.46569984 115.11239919 116.48860028 149.80559937 114.68920058\n",
            " 125.70519905 166.38439959 117.58160012 125.18199904 153.02290401\n",
            " 153.4333021  132.10700041 114.78820037 121.17070215 125.19620062\n",
            "  89.77090056 123.28290024 154.84420194 111.77560054 106.70559995\n",
            " 162.01790135 118.58219962 165.66229994 134.14180102 115.12509939\n",
            " 152.90459881 168.43899931 114.79900022 114.26860125 156.29709811\n",
            "  85.27199868 127.12180055 128.03520017 128.76689953 124.48120087\n",
            " 123.90320042  90.57879987 153.36610014  96.99449977 138.10909991\n",
            "  88.97739911 107.38549991 115.07050052 112.87010112 124.04689913\n",
            "  91.43539859 125.32990121 162.39249892 119.7817991  165.15010039\n",
            " 126.76419826 112.37500021 127.44199963  94.94979954  91.02649965\n",
            " 102.69779897 120.84580005  83.27339955 126.33809998 159.64230479\n",
            " 117.27490076 118.37099985 119.79429984 122.42519945 120.07160123\n",
            " 121.4678999  118.09620074 106.9437997  148.47400005 126.15889874\n",
            " 115.69290091  73.94639995 127.74960102 154.97330056 121.75709998\n",
            " 125.61130096  88.83570025 103.7223985  124.21890018 120.24800006\n",
            "  73.33930089 152.04220017 121.19730048 104.59300023  86.33279799\n",
            " 115.05199902 172.14689866 119.83250035 159.83679855 113.16769942\n",
            " 121.38200006 118.5219012   95.92289982 118.73980003 125.90270036\n",
            " 118.51159954  95.8759007  154.14790167 122.16800007 147.74910018\n",
            " 159.28050254 113.59860037 122.56389927 149.1518978  127.34720046\n",
            " 165.53120014 136.03020052 120.05050011 168.18029914 108.30429941\n",
            " 121.65979823 137.3392012  106.97579931]\n"
          ]
        }
      ]
    },
    {
      "cell_type": "code",
      "metadata": {
        "colab": {
          "base_uri": "https://localhost:8080/"
        },
        "id": "fu7A1hhMhqa9",
        "outputId": "f6186064-e72c-49e3-af00-3c55c0747dd8"
      },
      "source": [
        "# R squared error\n",
        "error_score = metrics.r2_score(Y_test, test_data_prediction)\n",
        "print(\"R squared error : \", error_score)"
      ],
      "execution_count": null,
      "outputs": [
        {
          "output_type": "stream",
          "name": "stdout",
          "text": [
            "R squared error :  0.988847458641018\n"
          ]
        }
      ]
    },
    {
      "cell_type": "markdown",
      "metadata": {
        "id": "f1fiqOMkiZNL"
      },
      "source": [
        "Compare the Actual Values and Predicted Values in a Plot"
      ]
    },
    {
      "cell_type": "code",
      "metadata": {
        "id": "QoC4g_tBiE4A"
      },
      "source": [
        "Y_test = list(Y_test)"
      ],
      "execution_count": null,
      "outputs": []
    },
    {
      "cell_type": "code",
      "metadata": {
        "colab": {
          "base_uri": "https://localhost:8080/",
          "height": 472
        },
        "id": "sMSVMVtFijxo",
        "outputId": "92b1f105-e174-4088-c05a-030a498a5216"
      },
      "source": [
        "plt.plot(Y_test, color='blue', label = 'Actual Value')\n",
        "plt.plot(test_data_prediction, color='green', label='Predicted Value')\n",
        "plt.title('Actual Price vs Predicted Price')\n",
        "plt.xlabel('Number of values')\n",
        "plt.ylabel('GLD Price')\n",
        "plt.legend()\n",
        "plt.show()"
      ],
      "execution_count": null,
      "outputs": [
        {
          "output_type": "display_data",
          "data": {
            "text/plain": [
              "<Figure size 640x480 with 1 Axes>"
            ],
            "image/png": "[encoded data removed]"
          },
          "metadata": {}
        }
      ]
    }
  ]
}